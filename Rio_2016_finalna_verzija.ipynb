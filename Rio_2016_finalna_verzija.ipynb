{
 "cells": [
  {
   "cell_type": "markdown",
   "metadata": {},
   "source": [
    "# Upotreba nekoliko algoritama mašinskog učenja na primeru odnosa visine i težine učesnika 3 timska sporta na letnjoj olimpijadi 2016"
   ]
  },
  {
   "cell_type": "markdown",
   "metadata": {},
   "source": [
    "#### Na sajtu www.kaggle.com nalazi se i dataset \"2016 Olympics in Rio de Janeiro\" koji ima csv fajl \"Athletes.csv\" na kom se nalaze podaci o svim sportistima koji su učestvovali na poslednjoj letnjoj olimpijadi. Za svakog sportistu postoji ID kolona, njegovo ime i prezime, datum rođenja, pol, sport kojim se bavi, visina, težina, država, i broj medalja. Kao što je poznato, na poslednjoj letnjoj olimpijadi (Rio 2016) Srbija je u timskim sportovima imala čak 3 finalista. Košarkaši, vaterpolisti i odbojkašice su stizali do finala, i ovo je projekat iz mašinskog učenja koji prvo izdvaja učesnike iz te tri konkurencije (muška-košarka, muški-vaterpolo, ženska-odbojka), grafički prikazuje i analizira te podatke, a onda se i osposobljava da prepoznaje sportiste u ove tri konkurencije na osnovu njihove kombinacije visine i težine.\n"
   ]
  },
  {
   "cell_type": "markdown",
   "metadata": {},
   "source": [
    "### Najava korišćenih biblioteka i paketa"
   ]
  },
  {
   "cell_type": "code",
   "execution_count": 1,
   "metadata": {},
   "outputs": [],
   "source": [
    "import pandas as pd\n",
    "import numpy as np\n",
    "import os\n",
    "from pandas import DataFrame,Series\n",
    "from sklearn import tree\n",
    "import matplotlib\n",
    "import matplotlib.pyplot as plt\n",
    "from sklearn import svm\n",
    "from sklearn.preprocessing import StandardScaler\n",
    "import statsmodels.formula.api as smf\n",
    "import statsmodels.api as sm\n",
    "from mpl_toolkits.mplot3d import Axes3D\n",
    "import seaborn as sns\n",
    "from sklearn import neighbors\n",
    "from sklearn import linear_model\n",
    "%matplotlib inline\n",
    "# prvo su najavljeni softverske biblioteke i paketi koji će biti korišćeni"
   ]
  },
  {
   "cell_type": "code",
   "execution_count": 2,
   "metadata": {},
   "outputs": [],
   "source": [
    "from sklearn.linear_model import LogisticRegression\n",
    "from sklearn.model_selection import train_test_split\n",
    "from sklearn.neighbors import KNeighborsClassifier\n",
    "from sklearn import svm\n",
    "from sklearn import metrics\n",
    "from sklearn.tree import DecisionTreeClassifier\n",
    "# zatim i programski paketi koji će se koristiti za potrebe klasifikacije"
   ]
  },
  {
   "cell_type": "markdown",
   "metadata": {},
   "source": [
    "### Učitavanje fajlova"
   ]
  },
  {
   "cell_type": "code",
   "execution_count": 3,
   "metadata": {},
   "outputs": [],
   "source": [
    "data3 = pd.read_csv(r'C:\\Users\\Drax\\Desktop\\Rio2016_basket_polo_volley.csv')\n",
    "data = pd.read_csv(r'C:\\Users\\Drax\\Desktop\\athletes.csv')\n"
   ]
  },
  {
   "cell_type": "markdown",
   "metadata": {},
   "source": [
    "#### Na desktopu je učitan fajl \"athletes.csv\", ali se ispostavilo da postoji problem sa učesnicima olimpijskog vaterpolo turnira, jer vaterpolo nije dat posebno, nego samo u okviru tzv vodenih sportova. Zato je napravljen poseban pomoćni fajl \"Rio2016_basket_polo_volley.csv\" gde su izdvojeni isključivo sportisti iz ove tri konkurencije. Ali u ovom projektu paralelno će se analizirati i podaci sa orginalnog dataseta gde su vaterpolisti izmešani sa ostalim učesnicima iz vodenih sportova u muškoj konkurenciji (dataframe data), kao i potpuno pročišćeni podaci za ova tri sporta (dataframe data3) \n",
    "\n",
    "#### Zatim ćemo preko .head() opcije da pogledamo prvih 5 redova obe tabele."
   ]
  },
  {
   "cell_type": "code",
   "execution_count": 4,
   "metadata": {},
   "outputs": [
    {
     "name": "stdout",
     "output_type": "stream",
     "text": [
      "          id            name nationality     sex       dob  height  weight  \\\n",
      "0  736041664  A Jesus Garcia         ESP    male  10/17/69    1.72    64.0   \n",
      "1  532037425      A Lam Shin         KOR  female   9/23/86    1.68    56.0   \n",
      "2  435962603     Aaron Brown         CAN    male   5/27/92    1.98    79.0   \n",
      "3  521041435      Aaron Cook         MDA    male    1/2/91    1.83    80.0   \n",
      "4   33922579      Aaron Gate         NZL    male  11/26/90    1.81    71.0   \n",
      "\n",
      "       sport  gold  silver  bronze  \n",
      "0  athletics     0       0       0  \n",
      "1    fencing     0       0       0  \n",
      "2  athletics     0       0       1  \n",
      "3  taekwondo     0       0       0  \n",
      "4    cycling     0       0       0  \n",
      "(11538, 11)\n",
      "\n",
      "<class 'pandas.core.frame.DataFrame'>\n",
      "RangeIndex: 11538 entries, 0 to 11537\n",
      "Data columns (total 11 columns):\n",
      "id             11538 non-null int64\n",
      "name           11538 non-null object\n",
      "nationality    11538 non-null object\n",
      "sex            11538 non-null object\n",
      "dob            11537 non-null object\n",
      "height         11208 non-null float64\n",
      "weight         10879 non-null float64\n",
      "sport          11538 non-null object\n",
      "gold           11538 non-null int64\n",
      "silver         11538 non-null int64\n",
      "bronze         11538 non-null int64\n",
      "dtypes: float64(2), int64(4), object(5)\n",
      "memory usage: 991.7+ KB\n",
      "\n",
      "          id                 name nationality     sex         dob  height  \\\n",
      "0  382571888        Aaron Younger         AUS    male     9/25/91    1.93   \n",
      "1  259675127  Abdoulkarim Fawziya         CMR  female  03/01/1989    1.80   \n",
      "2  256805041          Adam Decker         HUN    male     2/29/84    2.03   \n",
      "3   46940649     Adas Juskevicius         LTU    male  01/03/1989    1.94   \n",
      "4  993710181    Adenizia da Silva         BRA  female    12/18/86    1.87   \n",
      "\n",
      "   weight       sport  gold  silver  bronze  \n",
      "0   100.0    aquatics     0       0       0  \n",
      "1    67.0  volleyball     0       0       0  \n",
      "2   115.0    aquatics     0       0       0  \n",
      "3    90.0  basketball     0       0       0  \n",
      "4    65.0  volleyball     0       0       0  \n",
      "(492, 11)\n"
     ]
    }
   ],
   "source": [
    "print(data.head(5))\n",
    "print(data.shape)\n",
    "print()\n",
    "data.info()\n",
    "print()\n",
    "print(data3.head(5))\n",
    "print(data3.shape)\n",
    "# kratak uvid u 11 kolona koje sadrže ove dve tabele, i u njene dimenzije"
   ]
  },
  {
   "cell_type": "markdown",
   "metadata": {},
   "source": [
    "### Izdvajanje podataka za samo tri sporta koji nas zanimaju, brisanje nepotrebnih kolona i izbacivanje sportista sa nepotpunim podacima o visini i težini"
   ]
  },
  {
   "cell_type": "code",
   "execution_count": 5,
   "metadata": {},
   "outputs": [
    {
     "name": "stdout",
     "output_type": "stream",
     "text": [
      "(682, 11) (492, 11)\n"
     ]
    }
   ],
   "source": [
    "data = data[((data.sport == 'volleyball') & (data.sex == 'female')) | \n",
    "            ((data.sport == 'basketball') & (data.sex == 'male')) | \n",
    "            ((data.sport == 'aquatics') & (data.sex == 'male') & (data.nationality.isin(['SRB','MNE','CRO','HUN','GRE','ITA','ESP','FRA','USA','JPN','AUS','BRA'])))]\n",
    "print(data.shape, data3.shape)"
   ]
  },
  {
   "cell_type": "markdown",
   "metadata": {},
   "source": [
    "#### Kao što je rečeno, u datafrejmu 'data3' su već izdvojene samo tri konkurencije koje nas zanimaju (a u okviru vodenih sportova samo vaterpolisti), pa smo ovde i u datafrejmu 'data' sačuvali samo mušku-košarku, žensku odbojku i muške vodene sportove iz kojih smo odstranili sve učesnike iz zemalja koje nisu učestvovale na 2016 vaterpolo turniru, tako da nam je od orginalnih preko 11 hiljada sportista ostalo manje od 700.\n",
    "\n",
    "#### Zatim ćemo izbaciti iz obe tabele sve nepotrebne kolone koja nam nisu potrebne za ovaj rad (id, datum rodjenja i kolone o medaljama)."
   ]
  },
  {
   "cell_type": "code",
   "execution_count": 6,
   "metadata": {},
   "outputs": [
    {
     "name": "stdout",
     "output_type": "stream",
     "text": [
      "                   name nationality     sex  height  weight       sport\n",
      "7         Aaron Younger         AUS    male    1.93   100.0    aquatics\n",
      "46  Abdoulkarim Fawziya         CMR  female    1.80    67.0  volleyball\n",
      "75          Adam Decker         HUN    male    2.03   115.0    aquatics\n",
      "87         Adam Telegdy         HUN    male    1.94    77.0    aquatics\n",
      "95     Adas Juskevicius         LTU    male    1.94    90.0  basketball\n",
      "\n",
      "                  name nationality     sex  height  weight       sport\n",
      "0        Aaron Younger         AUS    male    1.93   100.0    aquatics\n",
      "1  Abdoulkarim Fawziya         CMR  female    1.80    67.0  volleyball\n",
      "2          Adam Decker         HUN    male    2.03   115.0    aquatics\n",
      "3     Adas Juskevicius         LTU    male    1.94    90.0  basketball\n",
      "4    Adenizia da Silva         BRA  female    1.87    65.0  volleyball\n"
     ]
    }
   ],
   "source": [
    "data.drop('id',axis=1,inplace=True) \n",
    "data.drop('dob',axis=1,inplace=True)\n",
    "data.drop('gold',axis=1,inplace=True)\n",
    "data.drop('silver',axis=1,inplace=True)\n",
    "data.drop('bronze',axis=1,inplace=True)\n",
    "print(data.head(5))\n",
    "print()\n",
    "\n",
    "data3.drop('id',axis=1,inplace=True)\n",
    "data3.drop('dob',axis=1,inplace=True)\n",
    "data3.drop('gold',axis=1,inplace=True)\n",
    "data3.drop('silver',axis=1,inplace=True)\n",
    "data3.drop('bronze',axis=1,inplace=True)\n",
    "print(data3.head(5))"
   ]
  },
  {
   "cell_type": "markdown",
   "metadata": {},
   "source": [
    "#### I na kraju, izbacivanje sportista sa nepotpunim podacima."
   ]
  },
  {
   "cell_type": "code",
   "execution_count": 7,
   "metadata": {},
   "outputs": [
    {
     "name": "stdout",
     "output_type": "stream",
     "text": [
      "(682, 6) (492, 6)\n",
      "(675, 6) (487, 6)\n"
     ]
    }
   ],
   "source": [
    "print(data.shape, data3.shape)\n",
    "data = data[np.isfinite(data['height'])]\n",
    "data = data[np.isfinite(data['weight'])]\n",
    "data3 = data3[np.isfinite(data3['height'])]\n",
    "data3 = data3[np.isfinite(data3['weight'])]\n",
    "print(data.shape, data3.shape)\n",
    "# Izbačeni su sada i oni sportisti kojima nije navedena visina ili težina, pošto će se sve dalje u ovom projektu\n",
    "# oslanjati baš na ta dva podatka"
   ]
  },
  {
   "cell_type": "markdown",
   "metadata": {},
   "source": [
    "### Vizuelna prezentacija podataka "
   ]
  },
  {
   "cell_type": "markdown",
   "metadata": {},
   "source": [
    "#### Prikazaćemo grafički sve sportiste u ove tri konkurencije preko njihove težine i visine. Tačke koje predstavljaju košarkaše su obojene u narandžasto, vodene sportove u plavo, a odbojkašice u crveno."
   ]
  },
  {
   "cell_type": "code",
   "execution_count": 8,
   "metadata": {},
   "outputs": [
    {
     "data": {
      "image/png": "[encoded data removed]",
      "text/plain": [
       "<Figure size 864x504 with 1 Axes>"
      ]
     },
     "metadata": {
      "needs_background": "light"
     },
     "output_type": "display_data"
    }
   ],
   "source": [
    "fig = data[data.sport=='basketball'].plot(kind='scatter',x='weight',y='height',color='orange', label='Basketball')\n",
    "data[data.sport=='volleyball'].plot(kind='scatter',x='weight',y='height',color='red', label='Volleyball',ax=fig)\n",
    "data[data.sport=='aquatics'].plot(kind='scatter',x='weight',y='height',color='blue', label='Aquatics', ax=fig)\n",
    "fig.set_xlabel(\"weight\")\n",
    "fig.set_ylabel(\"height\")\n",
    "fig.set_title(\"Height VS Weight\")\n",
    "fig=plt.gcf()\n",
    "fig.set_size_inches(12,7)\n",
    "plt.show()"
   ]
  },
  {
   "cell_type": "markdown",
   "metadata": {},
   "source": [
    "#### A sada ćemo to isto da uradimo sa tabelom 'data3' u kojoj su izdvojeni samo vaterpolisti od predstavnika vodenih sportova. "
   ]
  },
  {
   "cell_type": "code",
   "execution_count": 9,
   "metadata": {},
   "outputs": [
    {
     "data": {
      "image/png": "[encoded data removed]",
      "text/plain": [
       "<Figure size 864x504 with 1 Axes>"
      ]
     },
     "metadata": {
      "needs_background": "light"
     },
     "output_type": "display_data"
    }
   ],
   "source": [
    "fig = data3[data3.sport=='basketball'].plot(kind='scatter',x='weight',y='height',color='orange', label='Basketball')\n",
    "data3[data3.sport=='volleyball'].plot(kind='scatter',x='weight',y='height',color='red', label='Volleyball',ax=fig)\n",
    "data3[data3.sport=='aquatics'].plot(kind='scatter',x='weight',y='height',color='blue', label='Aquatics', ax=fig)\n",
    "fig.set_xlabel(\"weight\")\n",
    "fig.set_ylabel(\"height\")\n",
    "fig.set_title(\"Height VS Weight\")\n",
    "fig=plt.gcf()\n",
    "fig.set_size_inches(12,7)\n",
    "plt.show()\n",
    "# Isto to je urađeno i sa datafrejmom data3 gde se od \"vodenih sportova\" nalaze samo vaterpolisti iz muške konkurencije"
   ]
  },
  {
   "cell_type": "markdown",
   "metadata": {},
   "source": [
    "#### Preko odgovarajućih histagrama vidimo kako su preraspodeljeni visina i težina u ova tri sporta."
   ]
  },
  {
   "cell_type": "code",
   "execution_count": 10,
   "metadata": {},
   "outputs": [
    {
     "data": {
      "image/png": "[encoded data removed]",
      "text/plain": [
       "<Figure size 720x360 with 2 Axes>"
      ]
     },
     "metadata": {
      "needs_background": "light"
     },
     "output_type": "display_data"
    }
   ],
   "source": [
    "data.hist(edgecolor='black', linewidth=1.2)\n",
    "fig=plt.gcf()\n",
    "fig.set_size_inches(10,5)\n",
    "plt.show()"
   ]
  },
  {
   "cell_type": "code",
   "execution_count": 11,
   "metadata": {},
   "outputs": [
    {
     "data": {
      "image/png": "[encoded data removed]",
      "text/plain": [
       "<Figure size 720x360 with 2 Axes>"
      ]
     },
     "metadata": {
      "needs_background": "light"
     },
     "output_type": "display_data"
    }
   ],
   "source": [
    "data3.hist(edgecolor='black', linewidth=1.2)\n",
    "fig=plt.gcf()\n",
    "fig.set_size_inches(10,5)\n",
    "plt.show()"
   ]
  },
  {
   "cell_type": "markdown",
   "metadata": {},
   "source": [
    "## Primena mašinskog učenja"
   ]
  },
  {
   "cell_type": "markdown",
   "metadata": {},
   "source": [
    "### Podela datafrejmova na trening i test deo"
   ]
  },
  {
   "cell_type": "code",
   "execution_count": 12,
   "metadata": {},
   "outputs": [
    {
     "name": "stdout",
     "output_type": "stream",
     "text": [
      "(506, 6) (169, 6)\n",
      "(365, 6) (122, 6)\n",
      "(450, 6) (37, 6)\n"
     ]
    }
   ],
   "source": [
    "train, test = train_test_split(data, test_size = 0.25)\n",
    "print(train.shape, test.shape)\n",
    "\n",
    "train3, test3 = train_test_split(data3, test_size = 0.25)\n",
    "print(train3.shape, test3.shape)\n",
    "\n",
    "trainSRB = data3[(data3.nationality != 'SRB')]\n",
    "testSRB = data3[(data3.nationality == 'SRB')]\n",
    "print(trainSRB.shape, testSRB.shape)"
   ]
  },
  {
   "cell_type": "markdown",
   "metadata": {},
   "source": [
    "#### Iz oba datafrejma (i onog gde su samo vaterpolisti iz vodenih sportova, i onog gde nisu), uzet je slučajan uzorak za trening i za testiranje u odnosu 75% / 25%, a za potrebe eksperimentisanja napravili smo i treći par gde će nam, za potrebe testiranja služiti samo izdvojeni sportisti iz Srbije, a za trening iz ostatka sveta."
   ]
  },
  {
   "cell_type": "code",
   "execution_count": 13,
   "metadata": {},
   "outputs": [],
   "source": [
    "train_X = train[['height','weight']]\n",
    "train_y = train.sport\n",
    "test_X = test[['height','weight']]\n",
    "test_y = test.sport \n",
    "\n",
    "train3_X = train3[['height','weight']]\n",
    "train3_y = train3.sport\n",
    "test3_X = test3[['height','weight']]\n",
    "test3_y = test3.sport\n",
    "\n",
    "trainSRB_X = trainSRB[['height','weight']]\n",
    "trainSRB_y = trainSRB.sport\n",
    "testSRB_X = testSRB[['height','weight']]\n",
    "testSRB_y = testSRB.sport"
   ]
  },
  {
   "cell_type": "markdown",
   "metadata": {},
   "source": [
    "#### Kao što je već najavljeno u uvodu, u fokusu su nam visina i težina nekog sportiste u odnosu na sport kojim se bavi i paralelno ćemo posmatrati za sve ove tri izdvojene grupe koje smo odredili za treninge (odnosno testiranje)."
   ]
  },
  {
   "cell_type": "code",
   "execution_count": 14,
   "metadata": {},
   "outputs": [
    {
     "name": "stdout",
     "output_type": "stream",
     "text": [
      "       height  weight\n",
      "11113    1.84    75.0\n",
      "2175     1.86    77.0\n",
      "10590    1.77    75.0\n",
      "3206     1.89    90.0\n",
      "5567     1.84    84.0\n",
      "\n",
      "     height  weight\n",
      "127    1.78    69.0\n",
      "183    1.86    90.0\n",
      "192    1.72    64.0\n",
      "318    1.78    75.0\n",
      "9      1.91    95.0\n",
      "\n",
      "   height  weight\n",
      "0    1.93   100.0\n",
      "1    1.80    67.0\n",
      "2    2.03   115.0\n",
      "3    1.94    90.0\n",
      "4    1.87    65.0\n"
     ]
    }
   ],
   "source": [
    "print(train_X.head(5))\n",
    "print()\n",
    "print(train3_X.head(5))\n",
    "print()\n",
    "print(trainSRB_X.head(5))"
   ]
  },
  {
   "cell_type": "markdown",
   "metadata": {},
   "source": [
    "#### Da primetimo razlike između sva tri uzorka već na osnovu prvih pet sportista koji im pripadaju"
   ]
  },
  {
   "cell_type": "code",
   "execution_count": 15,
   "metadata": {},
   "outputs": [],
   "source": [
    "from warnings import simplefilter\n",
    "simplefilter(action='ignore', category=FutureWarning)\n",
    "# Blokirali smo za svaki slučaj opciju upozoravanja da se ne bi stvarala konfuzija pri prezentaciji rezultata\n",
    "# različitih algoritama klasifikacije i mašinskog učenja"
   ]
  },
  {
   "cell_type": "markdown",
   "metadata": {},
   "source": [
    "### SVM algoritam (support vector machines)"
   ]
  },
  {
   "cell_type": "markdown",
   "metadata": {},
   "source": [
    "#### Prvo ćemo isprobati SVM algoritam (Support Vector Machines) i utvrditi sa kojom preciznošću će pravilno klasifikovati sport samo na osnovu visine i težine sportiste, i uočiti sa kojom preciznošću su izvršena predvidjanja kojim sportom se bave sportisti iz test grupe. "
   ]
  },
  {
   "cell_type": "code",
   "execution_count": 18,
   "metadata": {},
   "outputs": [
    {
     "name": "stdout",
     "output_type": "stream",
     "text": [
      "Preciznost SVM algoritma je (data): 0.65\n",
      "Preciznost SVM algoritma je (data3): 0.66\n",
      "Preciznost SVM algoritma je (dataSRB): 0.73\n"
     ]
    }
   ],
   "source": [
    "model = svm.SVC()\n",
    "model.fit(train_X,train_y)\n",
    "prediction=model.predict(test_X)\n",
    "print('Preciznost SVM algoritma je (data):',round(metrics.accuracy_score(prediction,test_y), 2))\n",
    "\n",
    "model = svm.SVC()\n",
    "model.fit(train3_X,train3_y)\n",
    "prediction=model.predict(test3_X)\n",
    "print('Preciznost SVM algoritma je (data3):',round(metrics.accuracy_score(prediction,test3_y), 2))\n",
    "\n",
    "model = svm.SVC()\n",
    "model.fit(trainSRB_X,trainSRB_y)\n",
    "prediction=model.predict(testSRB_X)\n",
    "print('Preciznost SVM algoritma je (dataSRB):',round(metrics.accuracy_score(prediction,testSRB_y), 2))\n",
    "\n"
   ]
  },
  {
   "cell_type": "markdown",
   "metadata": {},
   "source": [
    "### Logistic Regression "
   ]
  },
  {
   "cell_type": "code",
   "execution_count": 19,
   "metadata": {},
   "outputs": [
    {
     "name": "stdout",
     "output_type": "stream",
     "text": [
      "Preciznost Logistic Regression algoritma (data): 0.67\n",
      "Preciznost Logistic Regression algoritma (data3): 0.76\n",
      "Preciznost Logistic Regression algoritma (dataSRB): 0.84\n"
     ]
    }
   ],
   "source": [
    "model = LogisticRegression()\n",
    "model.fit(train_X,train_y)\n",
    "prediction=model.predict(test_X)\n",
    "print('Preciznost Logistic Regression algoritma (data):',round(metrics.accuracy_score(prediction,test_y),2 ))\n",
    "\n",
    "model = LogisticRegression()\n",
    "model.fit(train3_X,train3_y)\n",
    "prediction = model.predict(test3_X)\n",
    "print('Preciznost Logistic Regression algoritma (data3):',round(metrics.accuracy_score(prediction,test3_y), 2))\n",
    "\n",
    "model = LogisticRegression()\n",
    "model.fit(trainSRB_X,trainSRB_y)\n",
    "prediction = model.predict(testSRB_X)\n",
    "print('Preciznost Logistic Regression algoritma (dataSRB):',round(metrics.accuracy_score(prediction,testSRB_y), 2))\n",
    "\n",
    "# Zatim smo na sva tri uzorka isprobali logičku regresiju (Logistic Regression)"
   ]
  },
  {
   "cell_type": "markdown",
   "metadata": {},
   "source": [
    "### Decision Tree Classifier "
   ]
  },
  {
   "cell_type": "code",
   "execution_count": 20,
   "metadata": {},
   "outputs": [
    {
     "name": "stdout",
     "output_type": "stream",
     "text": [
      "Preciznost Decision Tree algoritma (data) 0.69\n",
      "Preciznost Decision Tree algoritma (data3) 0.72\n",
      "Preciznost Decision Tree algoritma (dataSRB) 0.73\n"
     ]
    }
   ],
   "source": [
    "model = DecisionTreeClassifier()\n",
    "model.fit(train_X,train_y)\n",
    "prediction = model.predict(test_X)\n",
    "print('Preciznost Decision Tree algoritma (data)',round(metrics.accuracy_score(prediction,test_y),2 ))\n",
    "\n",
    "model = DecisionTreeClassifier()\n",
    "model.fit(train3_X,train3_y)\n",
    "prediction = model.predict(test3_X)\n",
    "print('Preciznost Decision Tree algoritma (data3)',round(metrics.accuracy_score(prediction,test3_y), 2))\n",
    "\n",
    "model = DecisionTreeClassifier()\n",
    "model.fit(trainSRB_X,trainSRB_y)\n",
    "prediction = model.predict(testSRB_X)\n",
    "print('Preciznost Decision Tree algoritma (dataSRB)',round(metrics.accuracy_score(prediction,testSRB_y), 2))\n",
    "\n",
    "# Sledeći je ispitan algoritam Decision Tree Classifier i njegova preciznost predviđanja na ova 3 uzorka"
   ]
  },
  {
   "cell_type": "markdown",
   "metadata": {},
   "source": [
    "### KNN algoritam (k-Nearest Neighbor)"
   ]
  },
  {
   "cell_type": "code",
   "execution_count": 21,
   "metadata": {},
   "outputs": [
    {
     "name": "stdout",
     "output_type": "stream",
     "text": [
      "Preciznost KNN algoritma (data) 0.66\n",
      "Preciznost KNN algoritma (data) 0.74\n",
      "Preciznost KNN algoritma (data) 0.7\n"
     ]
    }
   ],
   "source": [
    "model = KNeighborsClassifier(n_neighbors=3)\n",
    "model.fit(train_X,train_y)\n",
    "prediction = model.predict(test_X)\n",
    "print('Preciznost KNN algoritma (data)',round(metrics.accuracy_score(prediction,test_y), 2))\n",
    "\n",
    "model = KNeighborsClassifier(n_neighbors=3)\n",
    "model.fit(train3_X,train3_y)\n",
    "prediction = model.predict(test3_X)\n",
    "print('Preciznost KNN algoritma (data)',round(metrics.accuracy_score(prediction,test3_y), 2))\n",
    "\n",
    "model = KNeighborsClassifier(n_neighbors=3)\n",
    "model.fit(trainSRB_X,trainSRB_y)\n",
    "prediction = model.predict(testSRB_X)\n",
    "print('Preciznost KNN algoritma (data)',round(metrics.accuracy_score(prediction,testSRB_y), 2))\n",
    "\n",
    "# I na kraju je ispitan KNN algoritam (k-Nearest Neighbor) i njegova preciznost predviđanja na ova 3 uzorka"
   ]
  },
  {
   "cell_type": "markdown",
   "metadata": {},
   "source": [
    "## Zaključci na osnovu rezultata "
   ]
  },
  {
   "cell_type": "markdown",
   "metadata": {},
   "source": [
    "#### Samo na osnovu visine i težine sportiste u grupi gde su izmešani košarkaši, vaterpolisti i odbojkašice, može se sa relativno dosta uspešno pogoditi o predstavniku kog sporta je reč. Procenat uspešnosti je bio najniži tamo gde su vaterpolisti izmešani sa predstavnicima ostalih vodenih sportova, jer je preklapanje sa odbojkašicama onda tu veće.\n",
    "\n",
    "#### Vidno veću preciznost smo dobili tamo gde su vaterpolisti bili izdvojeni od ostalih vodenih sportova, jer je zakonomernost u odnosu visine i težine kod vaterpolista jasnija nego kod predstavnika vodenih sportova u celini. \n",
    "\n",
    "#### Najveću preciznost smo postigli tamo gde smo izdvojili samo srpske sportiste, a trenirali na svima ostalima. To se  dogodilo uprkos činjenici da su srpske odbojkašice u proseku po visini i težini bile iznad proseka za svoj sport, pa samim tim sličnije vaterpolistima i košarkaškim bekovima, a i da su srpski vaterpolisti u proseku takodje bili iznad proseka za svoj sport, pa samim tim bliži košarkašima. Ali pošto su svi došli do finala, onda je i za očekivati da se više od proseka njihov odnos visine i težine uklapa u nekakve idealne standarde koji važe za njihov sport u sva tri slučaja (i naši košarkaši, i vaterpolisti, i odbojkašice).\n"
   ]
  },
  {
   "cell_type": "code",
   "execution_count": null,
   "metadata": {},
   "outputs": [],
   "source": []
  },
  {
   "cell_type": "code",
   "execution_count": null,
   "metadata": {},
   "outputs": [],
   "source": []
  }
 ],
 "metadata": {
  "kernelspec": {
   "display_name": "Python 3",
   "language": "python",
   "name": "python3"
  },
  "language_info": {
   "codemirror_mode": {
    "name": "ipython",
    "version": 3
   },
   "file_extension": ".py",
   "mimetype": "text/x-python",
   "name": "python",
   "nbconvert_exporter": "python",
   "pygments_lexer": "ipython3",
   "version": "3.7.4"
  }
 },
 "nbformat": 4,
 "nbformat_minor": 2
}

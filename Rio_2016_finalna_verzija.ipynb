{
 "cells": [
  {
   "cell_type": "markdown",
   "metadata": {},
   "source": [
    "# Use of several machine learning algorithms on the example of the ratio of height and weight of participants in 3 team sports at the 2016 Summer Olympics\n"
   ]
  },
  {
   "cell_type": "markdown",
   "metadata": {},
   "source": [
    "#### On the website www.kaggle.com there is a dataset \"2016 Olympics in Rio de Janeiro\" which has a csv file \"Athletes.csv\" which contains data of all athletes who participated in the last Summer Olympics. For each athlete there is an ID column, his name, date of birth, gender, sport, height, weight, country, and number of medals. As it is known, at the last Summer Olympics (Rio 2016), Serbia had 3 finalists in team sports. Basketball players, water polo players and women volleyball players reached the finals, and this is a machine learning project that first singles out participants from these three competitions (men's basketball, men's water polo, women's volleyball), graphically displays and analyzes the data, and then enables you to recognize athletes in these three competitions based on their combination of height and weight.\n",
    "\n"
   ]
  },
  {
   "cell_type": "markdown",
   "metadata": {},
   "source": [
    "### Announcement of used libraries and packages"
   ]
  },
  {
   "cell_type": "code",
   "execution_count": 1,
   "metadata": {},
   "outputs": [],
   "source": [
    "import pandas as pd\n",
    "import numpy as np\n",
    "import os\n",
    "from pandas import DataFrame,Series\n",
    "from sklearn import tree\n",
    "import matplotlib\n",
    "import matplotlib.pyplot as plt\n",
    "from sklearn import svm\n",
    "from sklearn.preprocessing import StandardScaler\n",
    "import statsmodels.formula.api as smf\n",
    "import statsmodels.api as sm\n",
    "from mpl_toolkits.mplot3d import Axes3D\n",
    "import seaborn as sns\n",
    "from sklearn import neighbors\n",
    "from sklearn import linear_model\n",
    "%matplotlib inline\n",
    "# the software libraries and packages to be used were announced first"
   ]
  },
  {
   "cell_type": "code",
   "execution_count": 2,
   "metadata": {},
   "outputs": [],
   "source": [
    "from sklearn.linear_model import LogisticRegression\n",
    "from sklearn.model_selection import train_test_split\n",
    "from sklearn.neighbors import KNeighborsClassifier\n",
    "from sklearn import svm\n",
    "from sklearn import metrics\n",
    "from sklearn.tree import DecisionTreeClassifier\n",
    "# then the software packages that will be used for classification purposes"
   ]
  },
  {
   "cell_type": "markdown",
   "metadata": {},
   "source": [
    "### File loading"
   ]
  },
  {
   "cell_type": "code",
   "execution_count": 3,
   "metadata": {},
   "outputs": [],
   "source": [
    "data3 = pd.read_csv(r'D:\\Filip\\Desktop\\Rio2016_basket_polo_volley.csv')\n",
    "data = pd.read_csv(r'D:\\Filip\\Desktop\\athletes.csv')\n"
   ]
  },
  {
   "cell_type": "markdown",
   "metadata": {},
   "source": [
    "#### The file \"athletes.csv\" was loaded on the desktop, but it turned out that there was a problem with the participants of the Olympic water polo tournament, because water polo was not given separately, but only within the so-called water sports. That is why a special subsidiary file \"Rio2016_basket_polo_volley.csv\" was created, where only athletes from these three competitions were singled out. But in this project, data from the original dataset will be analyzed in parallel, where water polo players are mixed with other participants from water sports in men's competition (dataframe data), as well as completely cleaned data for these three sports (dataframe data3). \n",
    "\n",
    "#### Then we will look at the first 5 rows of both tables via the .head () option."
   ]
  },
  {
   "cell_type": "code",
   "execution_count": 4,
   "metadata": {},
   "outputs": [
    {
     "name": "stdout",
     "output_type": "stream",
     "text": [
      "          id            name nationality     sex       dob  height  weight  \\\n",
      "0  736041664  A Jesus Garcia         ESP    male  10/17/69    1.72    64.0   \n",
      "1  532037425      A Lam Shin         KOR  female   9/23/86    1.68    56.0   \n",
      "2  435962603     Aaron Brown         CAN    male   5/27/92    1.98    79.0   \n",
      "3  521041435      Aaron Cook         MDA    male    1/2/91    1.83    80.0   \n",
      "4   33922579      Aaron Gate         NZL    male  11/26/90    1.81    71.0   \n",
      "\n",
      "       sport  gold  silver  bronze  \n",
      "0  athletics     0       0       0  \n",
      "1    fencing     0       0       0  \n",
      "2  athletics     0       0       1  \n",
      "3  taekwondo     0       0       0  \n",
      "4    cycling     0       0       0  \n",
      "(11538, 11)\n",
      "\n",
      "<class 'pandas.core.frame.DataFrame'>\n",
      "RangeIndex: 11538 entries, 0 to 11537\n",
      "Data columns (total 11 columns):\n",
      " #   Column       Non-Null Count  Dtype  \n",
      "---  ------       --------------  -----  \n",
      " 0   id           11538 non-null  int64  \n",
      " 1   name         11538 non-null  object \n",
      " 2   nationality  11538 non-null  object \n",
      " 3   sex          11538 non-null  object \n",
      " 4   dob          11537 non-null  object \n",
      " 5   height       11208 non-null  float64\n",
      " 6   weight       10879 non-null  float64\n",
      " 7   sport        11538 non-null  object \n",
      " 8   gold         11538 non-null  int64  \n",
      " 9   silver       11538 non-null  int64  \n",
      " 10  bronze       11538 non-null  int64  \n",
      "dtypes: float64(2), int64(4), object(5)\n",
      "memory usage: 991.7+ KB\n",
      "\n",
      "          id                 name nationality     sex         dob  height  \\\n",
      "0  382571888        Aaron Younger         AUS    male     9/25/91    1.93   \n",
      "1  259675127  Abdoulkarim Fawziya         CMR  female  03/01/1989    1.80   \n",
      "2  256805041          Adam Decker         HUN    male     2/29/84    2.03   \n",
      "3   46940649     Adas Juskevicius         LTU    male  01/03/1989    1.94   \n",
      "4  993710181    Adenizia da Silva         BRA  female    12/18/86    1.87   \n",
      "\n",
      "   weight       sport  gold  silver  bronze  \n",
      "0   100.0    aquatics     0       0       0  \n",
      "1    67.0  volleyball     0       0       0  \n",
      "2   115.0    aquatics     0       0       0  \n",
      "3    90.0  basketball     0       0       0  \n",
      "4    65.0  volleyball     0       0       0  \n",
      "(492, 11)\n"
     ]
    }
   ],
   "source": [
    "print(data.head(5))\n",
    "print(data.shape)\n",
    "print()\n",
    "data.info()\n",
    "print()\n",
    "print(data3.head(5))\n",
    "print(data3.shape)\n",
    "# a brief overview of the 11 columns containing these two tables, and its dimensions"
   ]
  },
  {
   "cell_type": "markdown",
   "metadata": {},
   "source": [
    "### Extracting data for only three sports we are interested in, deleting unnecessary columns and expelling athletes with incomplete height and weight data"
   ]
  },
  {
   "cell_type": "code",
   "execution_count": 5,
   "metadata": {},
   "outputs": [
    {
     "name": "stdout",
     "output_type": "stream",
     "text": [
      "(682, 11) (492, 11)\n"
     ]
    }
   ],
   "source": [
    "data = data[((data.sport == 'volleyball') & (data.sex == 'female')) | \n",
    "            ((data.sport == 'basketball') & (data.sex == 'male')) | \n",
    "            ((data.sport == 'aquatics') & (data.sex == 'male') & (data.nationality.isin(['SRB','MNE','CRO','HUN','GRE','ITA','ESP','FRA','USA','JPN','AUS','BRA'])))]\n",
    "print(data.shape, data3.shape)"
   ]
  },
  {
   "cell_type": "markdown",
   "metadata": {},
   "source": [
    "#### As it was said, in the dataframe 'data3' only three competitions that interest us have already been singled out (within water sports only water polo players), so here in the dataframe 'data' we have saved only men's basketball, women's volleyball and men's water sports from which we removed all participants from countries that did not participate in the 2016 water polo tournament, so that we have less than 700 of the original over 11 thousand athletes left.\n",
    "\n",
    "#### Then we will remove from both tables all unnecessary columns that we do not need for this work (id, date of birth and columns about medals)."
   ]
  },
  {
   "cell_type": "code",
   "execution_count": 6,
   "metadata": {},
   "outputs": [
    {
     "name": "stdout",
     "output_type": "stream",
     "text": [
      "                   name nationality     sex  height  weight       sport\n",
      "7         Aaron Younger         AUS    male    1.93   100.0    aquatics\n",
      "46  Abdoulkarim Fawziya         CMR  female    1.80    67.0  volleyball\n",
      "75          Adam Decker         HUN    male    2.03   115.0    aquatics\n",
      "87         Adam Telegdy         HUN    male    1.94    77.0    aquatics\n",
      "95     Adas Juskevicius         LTU    male    1.94    90.0  basketball\n",
      "\n",
      "                  name nationality     sex  height  weight       sport\n",
      "0        Aaron Younger         AUS    male    1.93   100.0    aquatics\n",
      "1  Abdoulkarim Fawziya         CMR  female    1.80    67.0  volleyball\n",
      "2          Adam Decker         HUN    male    2.03   115.0    aquatics\n",
      "3     Adas Juskevicius         LTU    male    1.94    90.0  basketball\n",
      "4    Adenizia da Silva         BRA  female    1.87    65.0  volleyball\n"
     ]
    }
   ],
   "source": [
    "data.drop('id',axis=1,inplace=True) \n",
    "data.drop('dob',axis=1,inplace=True)\n",
    "data.drop('gold',axis=1,inplace=True)\n",
    "data.drop('silver',axis=1,inplace=True)\n",
    "data.drop('bronze',axis=1,inplace=True)\n",
    "print(data.head(5))\n",
    "print()\n",
    "\n",
    "data3.drop('id',axis=1,inplace=True)\n",
    "data3.drop('dob',axis=1,inplace=True)\n",
    "data3.drop('gold',axis=1,inplace=True)\n",
    "data3.drop('silver',axis=1,inplace=True)\n",
    "data3.drop('bronze',axis=1,inplace=True)\n",
    "print(data3.head(5))"
   ]
  },
  {
   "cell_type": "markdown",
   "metadata": {},
   "source": [
    "#### And finally, the deletion of athletes with incomplete data."
   ]
  },
  {
   "cell_type": "code",
   "execution_count": 20,
   "metadata": {},
   "outputs": [
    {
     "name": "stdout",
     "output_type": "stream",
     "text": [
      "(675, 6) (487, 6)\n",
      "(675, 6) (487, 6)\n"
     ]
    }
   ],
   "source": [
    "print(data.shape, data3.shape)\n",
    "data = data[np.isfinite(data['height'])]\n",
    "data = data[np.isfinite(data['weight'])]\n",
    "data3 = data3[np.isfinite(data3['height'])]\n",
    "data3 = data3[np.isfinite(data3['weight'])]\n",
    "print(data.shape, data3.shape)\n",
    "# Athletes who are not given height or weight have now been eliminated, \n",
    "# as they will continue to rely on these two data in this project."
   ]
  },
  {
   "cell_type": "markdown",
   "metadata": {},
   "source": [
    "### Visual Data Presentation"
   ]
  },
  {
   "cell_type": "markdown",
   "metadata": {},
   "source": [
    "#### We will graphically show all athletes in these three competitions by their weight and height. The dots representing the basketball players are colored in orange, water sports in blue, and the volleyball players in red."
   ]
  },
  {
   "cell_type": "code",
   "execution_count": 8,
   "metadata": {},
   "outputs": [
    {
     "data": {
      "image/png": "[encoded data removed]",
      "text/plain": [
       "<Figure size 864x504 with 1 Axes>"
      ]
     },
     "metadata": {
      "needs_background": "light"
     },
     "output_type": "display_data"
    }
   ],
   "source": [
    "fig = data[data.sport=='basketball'].plot(kind='scatter',x='weight',y='height',color='orange', label='Basketball')\n",
    "data[data.sport=='volleyball'].plot(kind='scatter',x='weight',y='height',color='red', label='Volleyball',ax=fig)\n",
    "data[data.sport=='aquatics'].plot(kind='scatter',x='weight',y='height',color='blue', label='Aquatics', ax=fig)\n",
    "fig.set_xlabel(\"weight\")\n",
    "fig.set_ylabel(\"height\")\n",
    "fig.set_title(\"Height VS Weight\")\n",
    "fig=plt.gcf()\n",
    "fig.set_size_inches(12,7)\n",
    "plt.show()"
   ]
  },
  {
   "cell_type": "markdown",
   "metadata": {},
   "source": [
    "#### And now we will do the same with the table 'data3' in which only water polo players are separated from the representatives of water sports. "
   ]
  },
  {
   "cell_type": "code",
   "execution_count": 21,
   "metadata": {},
   "outputs": [
    {
     "data": {
      "image/png": "[encoded data removed]",
      "text/plain": [
       "<Figure size 864x504 with 1 Axes>"
      ]
     },
     "metadata": {
      "needs_background": "light"
     },
     "output_type": "display_data"
    }
   ],
   "source": [
    "fig = data3[data3.sport=='basketball'].plot(kind='scatter',x='weight',y='height',color='orange', label='Basketball')\n",
    "data3[data3.sport=='volleyball'].plot(kind='scatter',x='weight',y='height',color='red', label='Volleyball',ax=fig)\n",
    "data3[data3.sport=='aquatics'].plot(kind='scatter',x='weight',y='height',color='blue', label='Aquatics', ax=fig)\n",
    "fig.set_xlabel(\"weight\")\n",
    "fig.set_ylabel(\"height\")\n",
    "fig.set_title(\"Height VS Weight\")\n",
    "fig=plt.gcf()\n",
    "fig.set_size_inches(12,7)\n",
    "plt.show()\n",
    "# The same was done with the data frame data 3 where of the \"water sports\" there are only water polo players from the men's competition"
   ]
  },
  {
   "cell_type": "markdown",
   "metadata": {},
   "source": [
    "#### Through the appropriate histagrams we see how height and weight are redistributed in these three sports."
   ]
  },
  {
   "cell_type": "code",
   "execution_count": 22,
   "metadata": {},
   "outputs": [
    {
     "data": {
      "image/png": "[encoded data removed]",
      "text/plain": [
       "<Figure size 720x360 with 2 Axes>"
      ]
     },
     "metadata": {
      "needs_background": "light"
     },
     "output_type": "display_data"
    }
   ],
   "source": [
    "data.hist(edgecolor='black', linewidth=1.2)\n",
    "fig=plt.gcf()\n",
    "fig.set_size_inches(10,5)\n",
    "plt.show()"
   ]
  },
  {
   "cell_type": "code",
   "execution_count": 23,
   "metadata": {},
   "outputs": [
    {
     "data": {
      "image/png": "[encoded data removed]",
      "text/plain": [
       "<Figure size 720x360 with 2 Axes>"
      ]
     },
     "metadata": {
      "needs_background": "light"
     },
     "output_type": "display_data"
    }
   ],
   "source": [
    "data3.hist(edgecolor='black', linewidth=1.2)\n",
    "fig=plt.gcf()\n",
    "fig.set_size_inches(10,5)\n",
    "plt.show()"
   ]
  },
  {
   "cell_type": "markdown",
   "metadata": {},
   "source": [
    "## Application of Machine Learning"
   ]
  },
  {
   "cell_type": "markdown",
   "metadata": {},
   "source": [
    "### Division of data frames into training and test part"
   ]
  },
  {
   "cell_type": "code",
   "execution_count": 24,
   "metadata": {},
   "outputs": [
    {
     "name": "stdout",
     "output_type": "stream",
     "text": [
      "(506, 6) (169, 6)\n",
      "(365, 6) (122, 6)\n",
      "(450, 6) (37, 6)\n"
     ]
    }
   ],
   "source": [
    "train, test = train_test_split(data, test_size = 0.25)\n",
    "print(train.shape, test.shape)\n",
    "\n",
    "train3, test3 = train_test_split(data3, test_size = 0.25)\n",
    "print(train3.shape, test3.shape)\n",
    "\n",
    "trainSRB = data3[(data3.nationality != 'SRB')]\n",
    "testSRB = data3[(data3.nationality == 'SRB')]\n",
    "print(trainSRB.shape, testSRB.shape)"
   ]
  },
  {
   "cell_type": "markdown",
   "metadata": {},
   "source": [
    "#### From both data frames (the one where only water polo players are from water sports, and the one where they are not), a random sample was taken for training and testing in the ratio of 75% / 25%, and for the purposes of experimentation we made a third pair where for the needs of testing serve only selected athletes from Serbia, and for training from the rest of the world."
   ]
  },
  {
   "cell_type": "code",
   "execution_count": 25,
   "metadata": {},
   "outputs": [],
   "source": [
    "train_X = train[['height','weight']]\n",
    "train_y = train.sport\n",
    "test_X = test[['height','weight']]\n",
    "test_y = test.sport \n",
    "\n",
    "train3_X = train3[['height','weight']]\n",
    "train3_y = train3.sport\n",
    "test3_X = test3[['height','weight']]\n",
    "test3_y = test3.sport\n",
    "\n",
    "trainSRB_X = trainSRB[['height','weight']]\n",
    "trainSRB_y = trainSRB.sport\n",
    "testSRB_X = testSRB[['height','weight']]\n",
    "testSRB_y = testSRB.sport"
   ]
  },
  {
   "cell_type": "markdown",
   "metadata": {},
   "source": [
    "#### As already announced in the introduction, our focus is on the height and weight of an athlete in relation to the sport he or she is engaged in, and in parallel we will observe for all these three separate groups that we have determined for training (ie testing)."
   ]
  },
  {
   "cell_type": "code",
   "execution_count": 26,
   "metadata": {},
   "outputs": [
    {
     "name": "stdout",
     "output_type": "stream",
     "text": [
      "       height  weight\n",
      "6433     1.74    69.0\n",
      "2459     1.89    84.0\n",
      "2904     1.71    67.0\n",
      "11357    1.80    68.0\n",
      "3206     1.89    90.0\n",
      "\n",
      "     height  weight\n",
      "153    1.85    83.0\n",
      "483    1.77    72.0\n",
      "181    2.04   115.0\n",
      "393    1.93    99.0\n",
      "296    2.03   100.0\n",
      "\n",
      "   height  weight\n",
      "0    1.93   100.0\n",
      "1    1.80    67.0\n",
      "2    2.03   115.0\n",
      "3    1.94    90.0\n",
      "4    1.87    65.0\n"
     ]
    }
   ],
   "source": [
    "print(train_X.head(5))\n",
    "print()\n",
    "print(train3_X.head(5))\n",
    "print()\n",
    "print(trainSRB_X.head(5))"
   ]
  },
  {
   "cell_type": "markdown",
   "metadata": {},
   "source": [
    "#### Let's notice the differences between all three samples based on the first five athletes who belong to them"
   ]
  },
  {
   "cell_type": "code",
   "execution_count": 27,
   "metadata": {},
   "outputs": [],
   "source": [
    "from warnings import simplefilter\n",
    "simplefilter(action='ignore', category=FutureWarning)\n",
    "# In each case, we blocked the warning option so as not to create confusion \n",
    "# when presenting the results of different classification and machine learning algorithms."
   ]
  },
  {
   "cell_type": "markdown",
   "metadata": {},
   "source": [
    "### SVM (support vector machines)"
   ]
  },
  {
   "cell_type": "markdown",
   "metadata": {},
   "source": [
    "#### We will first test the SVM algorithm (Support Vector Machines) and determine with what precision it will correctly classify the sport only on the basis of the athlete's height and weight."
   ]
  },
  {
   "cell_type": "code",
   "execution_count": 29,
   "metadata": {},
   "outputs": [
    {
     "name": "stdout",
     "output_type": "stream",
     "text": [
      "Precision of SVM algorithm is (data): 0.69\n",
      "Precision of SVM algorithm is (data3): 0.69\n",
      "Precision of SVM algorithm is (dataSRB): 0.73\n"
     ]
    }
   ],
   "source": [
    "model = svm.SVC()\n",
    "model.fit(train_X,train_y)\n",
    "prediction=model.predict(test_X)\n",
    "print('Precision of SVM algorithm is (data):',round(metrics.accuracy_score(prediction,test_y), 2))\n",
    "\n",
    "model = svm.SVC()\n",
    "model.fit(train3_X,train3_y)\n",
    "prediction=model.predict(test3_X)\n",
    "print('Precision of SVM algorithm is (data3):',round(metrics.accuracy_score(prediction,test3_y), 2))\n",
    "\n",
    "model = svm.SVC()\n",
    "model.fit(trainSRB_X,trainSRB_y)\n",
    "prediction=model.predict(testSRB_X)\n",
    "print('Precision of SVM algorithm is (dataSRB):',round(metrics.accuracy_score(prediction,testSRB_y), 2))\n",
    "\n"
   ]
  },
  {
   "cell_type": "markdown",
   "metadata": {},
   "source": [
    "### Logistic Regression "
   ]
  },
  {
   "cell_type": "code",
   "execution_count": 30,
   "metadata": {},
   "outputs": [
    {
     "name": "stdout",
     "output_type": "stream",
     "text": [
      "Precision of Logistic Regression algorithm is (data): 0.73\n",
      "Precision of Logistic Regression algorithm (data3): 0.75\n",
      "Precision Logistic Regression algorithm is (dataSRB): 0.76\n"
     ]
    }
   ],
   "source": [
    "model = LogisticRegression()\n",
    "model.fit(train_X,train_y)\n",
    "prediction=model.predict(test_X)\n",
    "print('Precision of Logistic Regression algorithm is (data):',round(metrics.accuracy_score(prediction,test_y),2 ))\n",
    "\n",
    "model = LogisticRegression()\n",
    "model.fit(train3_X,train3_y)\n",
    "prediction = model.predict(test3_X)\n",
    "print('Precision of Logistic Regression algorithm (data3):',round(metrics.accuracy_score(prediction,test3_y), 2))\n",
    "\n",
    "model = LogisticRegression()\n",
    "model.fit(trainSRB_X,trainSRB_y)\n",
    "prediction = model.predict(testSRB_X)\n",
    "print('Precision Logistic Regression algorithm is (dataSRB):',round(metrics.accuracy_score(prediction,testSRB_y), 2))\n",
    "\n",
    "# We then tested logistic Regression on all three samples"
   ]
  },
  {
   "cell_type": "markdown",
   "metadata": {},
   "source": [
    "### Decision Tree Classifier "
   ]
  },
  {
   "cell_type": "code",
   "execution_count": 32,
   "metadata": {},
   "outputs": [
    {
     "name": "stdout",
     "output_type": "stream",
     "text": [
      "Precision of Decision Tree algorithm is (data) 0.6\n",
      "Precision of Decision Tree algorithm is (data3) 0.8\n",
      "Precision of Decision Tree algorithm is (dataSRB) 0.73\n"
     ]
    }
   ],
   "source": [
    "model = DecisionTreeClassifier()\n",
    "model.fit(train_X,train_y)\n",
    "prediction = model.predict(test_X)\n",
    "print('Precision of Decision Tree algorithm is (data)',round(metrics.accuracy_score(prediction,test_y),2 ))\n",
    "\n",
    "model = DecisionTreeClassifier()\n",
    "model.fit(train3_X,train3_y)\n",
    "prediction = model.predict(test3_X)\n",
    "print('Precision of Decision Tree algorithm is (data3)',round(metrics.accuracy_score(prediction,test3_y), 2))\n",
    "\n",
    "model = DecisionTreeClassifier()\n",
    "model.fit(trainSRB_X,trainSRB_y)\n",
    "prediction = model.predict(testSRB_X)\n",
    "print('Precision of Decision Tree algorithm is (dataSRB)',round(metrics.accuracy_score(prediction,testSRB_y), 2))\n",
    "\n",
    "# The next examined algorithm was Decision Tree Classifier and its precision of prediction on these 3 samples"
   ]
  },
  {
   "cell_type": "markdown",
   "metadata": {},
   "source": [
    "### KNN (k-Nearest Neighbor)"
   ]
  },
  {
   "cell_type": "code",
   "execution_count": 33,
   "metadata": {},
   "outputs": [
    {
     "name": "stdout",
     "output_type": "stream",
     "text": [
      "Precision of KNN algorithm is (data) 0.67\n",
      "Precision of KNN algorithm is (data) 0.8\n",
      "Precision of KNN algorithm is (data) 0.7\n"
     ]
    }
   ],
   "source": [
    "model = KNeighborsClassifier(n_neighbors=3)\n",
    "model.fit(train_X,train_y)\n",
    "prediction = model.predict(test_X)\n",
    "print('Precision of KNN algorithm is (data)',round(metrics.accuracy_score(prediction,test_y), 2))\n",
    "\n",
    "model = KNeighborsClassifier(n_neighbors=3)\n",
    "model.fit(train3_X,train3_y)\n",
    "prediction = model.predict(test3_X)\n",
    "print('Precision of KNN algorithm is (data)',round(metrics.accuracy_score(prediction,test3_y), 2))\n",
    "\n",
    "model = KNeighborsClassifier(n_neighbors=3)\n",
    "model.fit(trainSRB_X,trainSRB_y)\n",
    "prediction = model.predict(testSRB_X)\n",
    "print('Precision of KNN algorithm is (data)',round(metrics.accuracy_score(prediction,testSRB_y), 2))\n",
    "\n",
    "# Finally, the KNN algorithm (k-Nearest Neighbor) and its prediction accuracy on these 3 samples were tested."
   ]
  },
  {
   "cell_type": "markdown",
   "metadata": {},
   "source": [
    "## Conclusion based on results "
   ]
  },
  {
   "cell_type": "markdown",
   "metadata": {},
   "source": [
    "#### Only on the basis of the height and weight of the athlete in the group where basketball players, water polo players and volleyball players are mixed, it is possible to guess relatively successfully who is exactly the right representative of the sport.\n",
    "\n",
    "#### We got visibly greater precision where water polo players were separated from other water sports, because the regularity in the ratio of height and weight in water polo players is clearer than in the representatives of water sports as a whole.\n",
    "\n",
    "#### We achieved the highest precision where we singled out only Serbian athletes, and trained on everyone else. This happened despite the fact that Serbian volleyball players were on average in height and weight above the average for their sport, and therefore more similar to water polo players and basketball guards, and that Serbian water polo players were also on average above average for their sport, and therefore closer to basketball players. But since they all reached the finals, then it is to be expected that more than average, their height-weight ratio fits into some ideal standards that apply to their sport in all three cases (Serbian basketball players, water polo players and volleyball players).\n",
    "\n"
   ]
  },
  {
   "cell_type": "code",
   "execution_count": null,
   "metadata": {},
   "outputs": [],
   "source": []
  },
  {
   "cell_type": "code",
   "execution_count": null,
   "metadata": {},
   "outputs": [],
   "source": []
  }
 ],
 "metadata": {
  "kernelspec": {
   "display_name": "Python 3",
   "language": "python",
   "name": "python3"
  },
  "language_info": {
   "codemirror_mode": {
    "name": "ipython",
    "version": 3
   },
   "file_extension": ".py",
   "mimetype": "text/x-python",
   "name": "python",
   "nbconvert_exporter": "python",
   "pygments_lexer": "ipython3",
   "version": "3.8.3"
  }
 },
 "nbformat": 4,
 "nbformat_minor": 2
}
